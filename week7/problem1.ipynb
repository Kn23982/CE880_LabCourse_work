{
  "cells": [
    {
      "cell_type": "markdown",
      "metadata": {
        "id": "view-in-github",
        "colab_type": "text"
      },
      "source": [
        "<a href=\"https://colab.research.google.com/github/Kn23982/kn23982-CE880-Lab-coursework/blob/main/week7/problem1.ipynb\" target=\"_parent\"><img src=\"https://colab.research.google.com/assets/colab-badge.svg\" alt=\"Open In Colab\"/></a>"
      ]
    },
    {
      "cell_type": "markdown",
      "metadata": {
        "id": "evEo_AIm9J3X"
      },
      "source": [
        "Before you turn this problem in, make sure everything runs as expected. First, **restart the kernel** (in the menubar, select Kernel$\\rightarrow$Restart) and then **run all cells** (in the menubar, select Cell$\\rightarrow$Run All).\n",
        "\n",
        "Make sure you fill in any place that says `YOUR CODE HERE` or \"YOUR ANSWER HERE\", as well as your name and collaborators below:"
      ]
    },
    {
      "cell_type": "code",
      "execution_count": null,
      "metadata": {
        "id": "T_328hTl9J3Z"
      },
      "outputs": [],
      "source": [
        "NAME = \"kn23982\"\n",
        "COLLABORATORS = \"\""
      ]
    },
    {
      "cell_type": "markdown",
      "metadata": {
        "id": "IpR9liCS9J3Z"
      },
      "source": [
        "---"
      ]
    },
    {
      "cell_type": "markdown",
      "metadata": {
        "id": "xIgQCFco9J3a"
      },
      "source": [
        "---\n",
        "# Welcome to CE880\n",
        "### This is your week-7 : Problem notebook\n",
        "\n",
        "For this problem set, we'll be using the Jupyter notebook and please upload this notebook to [Google Colab](https://colab.research.google.com/)."
      ]
    },
    {
      "cell_type": "markdown",
      "metadata": {
        "id": "FyfzbT869J3a"
      },
      "source": [
        "---\n",
        "## Question 1:\n",
        "#### Bootstrapping\n",
        "We are creating a random vector to serve as our population, with an unknown distribution matching that of the population. Develop a function to select a sample from our population using the Bootstrapping procedure, with a sample size of `300` and conducting `1000` re-samplings (`B = 1000`)."
      ]
    },
    {
      "cell_type": "code",
      "execution_count": null,
      "metadata": {
        "deletable": false,
        "nbgrader": {
          "cell_type": "code",
          "checksum": "53d46ff785037c229a53118258d89507",
          "grade": false,
          "grade_id": "my_bootstrapping_ans",
          "locked": false,
          "schema_version": 3,
          "solution": true,
          "task": false
        },
        "id": "UvVR9H4j9J3a"
      },
      "outputs": [],
      "source": [
        "import numpy as np\n",
        "np.random.seed(123)\n",
        "pop = np.random.randint(0,500 , size=1000)\n",
        "print(pop.mean()) # Print population mean\n",
        "\n",
        "sample = np.random.choice(pop, size=300) #so n=300 #example of picking up a sample\n",
        "\n",
        "def my_bootstrapping():\n",
        "    \"\"\"Write a function to pick a sample from our population and by applying the\n",
        "    Bootstrapping procedure, where sample size=300: and B=1000 number of re-sampling \"\"\"\n",
        "    # YOUR CODE HERE\n",
        "    raise NotImplementedError()"
      ]
    },
    {
      "cell_type": "code",
      "execution_count": null,
      "metadata": {
        "deletable": false,
        "editable": false,
        "nbgrader": {
          "cell_type": "code",
          "checksum": "a88c4bb109aa53b9b69cb81407e1697a",
          "grade": true,
          "grade_id": "my_bootstrapping_test",
          "locked": true,
          "points": 2,
          "schema_version": 3,
          "solution": false,
          "task": false
        },
        "id": "Nj_0WW1U9J3a"
      },
      "outputs": [],
      "source": [
        "# Check you solution by running this cell\n",
        "import math\n",
        "assert math.isclose(my_bootstrapping(), 253.241, rel_tol = 0.05)"
      ]
    },
    {
      "cell_type": "markdown",
      "metadata": {
        "id": "4x1BVFd89J3b"
      },
      "source": [
        "---\n",
        "## Question 2:\n",
        "\n",
        "#### Majority Voting\n",
        "Given a list = `[1,2,3,2,2,1,3,3,3,2,2,1]`, consider 12 judges sitting and deciding among 3 contenders. Write a function to find the winner-based on a majority voting scheme."
      ]
    },
    {
      "cell_type": "code",
      "execution_count": null,
      "metadata": {
        "deletable": false,
        "nbgrader": {
          "cell_type": "code",
          "checksum": "5a350cae53e1f34d96a06a1e8a6445b1",
          "grade": false,
          "grade_id": "my_pairedttest_ans",
          "locked": false,
          "schema_version": 3,
          "solution": true,
          "task": false
        },
        "id": "PKTlxXrW9J3b"
      },
      "outputs": [],
      "source": [
        "# Example of the Paired Student's t-test\n",
        "a = np.array([1,2,3,2,2,1,3,3,3,2,2,1])\n",
        "\n",
        "def my_majorityvote():\n",
        "    \"\"\"Write a function to find the majority voting.\"\"\"\n",
        "    # YOUR CODE HERE\n",
        "    raise NotImplementedError()"
      ]
    },
    {
      "cell_type": "code",
      "execution_count": null,
      "metadata": {
        "deletable": false,
        "editable": false,
        "nbgrader": {
          "cell_type": "code",
          "checksum": "145d6d15c75b7e3a105b93aec8a4aa8f",
          "grade": true,
          "grade_id": "my_pairedttest_test",
          "locked": true,
          "points": 2,
          "schema_version": 3,
          "solution": false,
          "task": false
        },
        "id": "G7r8jszM9J3c"
      },
      "outputs": [],
      "source": [
        "# Check you solution by running this cell\n",
        "import math\n",
        "assert math.isclose(my_majorityvote(), 2, rel_tol = 0.05)"
      ]
    },
    {
      "cell_type": "markdown",
      "metadata": {
        "id": "l7CzjbSC9J3c"
      },
      "source": [
        "---\n",
        "## Question 3:\n",
        "\n",
        "#### Decision Tree\n",
        "USe the IRIS dataset from `sklearn` to build a decision tree classifier. The dataset contains information for three classes of the IRIS plant, namely IRIS Setosa, IRIS Versicolour, and IRIS Virginica, with the following attributes: sepal length, sepal width, petal length, and petal width. Your aim is to train a decision tree on training data and return the test accuracy."
      ]
    },
    {
      "cell_type": "code",
      "execution_count": null,
      "metadata": {
        "deletable": false,
        "nbgrader": {
          "cell_type": "code",
          "checksum": "69192f23f1a94dcd4dd6b703633eccfc",
          "grade": false,
          "grade_id": "my_DTree_ans",
          "locked": false,
          "schema_version": 3,
          "solution": true,
          "task": false
        },
        "id": "qvHGT0tB9J3c"
      },
      "outputs": [],
      "source": [
        "import pandas as pd\n",
        "import numpy as np\n",
        "from sklearn.datasets import load_iris\n",
        "from sklearn.metrics import accuracy_score\n",
        "from sklearn.tree import DecisionTreeClassifier\n",
        "\n",
        "# Reading the Iris.csv file\n",
        "data = load_iris()\n",
        "\n",
        "# Extracting Attributes / Features\n",
        "X = data.data\n",
        "\n",
        "# Extracting Target / Class Labels\n",
        "y = data.target\n",
        "\n",
        "# Import Library for splitting data\n",
        "from sklearn.model_selection import train_test_split\n",
        "\n",
        "# Creating Train and Test datasets\n",
        "X_train, X_test, y_train, y_test = train_test_split(X,y, random_state = 50, test_size = 0.25)\n",
        "\n",
        "def my_DTree():\n",
        "    \"\"\"Write code to to train a decision tree classifier and return the test accuracy\"\"\"\n",
        "    # YOUR CODE HERE\n",
        "    raise NotImplementedError()"
      ]
    },
    {
      "cell_type": "code",
      "execution_count": null,
      "metadata": {
        "deletable": false,
        "editable": false,
        "nbgrader": {
          "cell_type": "code",
          "checksum": "e56689327ed8c774d916ab7440966ee7",
          "grade": true,
          "grade_id": "my_DTree_test",
          "locked": true,
          "points": 2,
          "schema_version": 3,
          "solution": false,
          "task": false
        },
        "id": "dfTWW5iD9J3c"
      },
      "outputs": [],
      "source": [
        "# Check you solution by running this cell\n",
        "import math\n",
        "assert math.isclose(my_DTree(), 0.94736, rel_tol = 0.05)"
      ]
    }
  ],
  "metadata": {
    "kernelspec": {
      "display_name": "Python 3",
      "language": "python",
      "name": "python3"
    },
    "language_info": {
      "codemirror_mode": {
        "name": "ipython",
        "version": 3
      },
      "file_extension": ".py",
      "mimetype": "text/x-python",
      "name": "python",
      "nbconvert_exporter": "python",
      "pygments_lexer": "ipython3",
      "version": "3.7.11"
    },
    "colab": {
      "provenance": [],
      "include_colab_link": true
    }
  },
  "nbformat": 4,
  "nbformat_minor": 0
}