{
  "cells": [
    {
      "cell_type": "markdown",
      "metadata": {
        "id": "view-in-github",
        "colab_type": "text"
      },
      "source": [
        "<a href=\"https://colab.research.google.com/github/Kn23982/kn23982-CE880-Lab-coursework/blob/main/week5/problem1.ipynb\" target=\"_parent\"><img src=\"https://colab.research.google.com/assets/colab-badge.svg\" alt=\"Open In Colab\"/></a>"
      ]
    },
    {
      "cell_type": "markdown",
      "metadata": {
        "id": "AQXscbD80gBp"
      },
      "source": [
        "Before you turn this problem in, make sure everything runs as expected. First, **restart the kernel** (in the menubar, select Kernel$\\rightarrow$Restart) and then **run all cells** (in the menubar, select Cell$\\rightarrow$Run All).\n",
        "\n",
        "Make sure you fill in any place that says `YOUR CODE HERE` or \"YOUR ANSWER HERE\", as well as your name and collaborators below:"
      ]
    },
    {
      "cell_type": "code",
      "execution_count": null,
      "metadata": {
        "id": "vo-nlsPa0gBq"
      },
      "outputs": [],
      "source": [
        "NAME = \"kn23982\"\n",
        "COLLABORATORS = \"\""
      ]
    },
    {
      "cell_type": "markdown",
      "metadata": {
        "id": "jopi44zu0gBr"
      },
      "source": [
        "---"
      ]
    },
    {
      "cell_type": "markdown",
      "metadata": {
        "id": "jHQe-Wby0gBr"
      },
      "source": [
        "---\n",
        "# Welcome to CE880\n",
        "### This is your week-5 : Problem notebook\n",
        "\n",
        "For this problem set, we'll be using the Jupyter notebook and please upload this notebook to [Google Colab](https://colab.research.google.com/)."
      ]
    },
    {
      "cell_type": "code",
      "execution_count": null,
      "metadata": {
        "id": "wCNvk3bn0gBr"
      },
      "outputs": [],
      "source": [
        "# install sklearn package if you are using local computer and if you are using Google Coalb then skip this step\n",
        "# !pip install -U scikit-learn\n",
        "import sys\n",
        "import warnings\n",
        "if not sys.warnoptions:\n",
        "    warnings.simplefilter(\"ignore\")"
      ]
    },
    {
      "cell_type": "markdown",
      "metadata": {
        "id": "Rp3w3Lzo0gBr"
      },
      "source": [
        "---\n",
        "## Question 1:\n",
        "We’re ready to split a larger dataset to solve a regression problem. You’ll use a well-known Boston house prices dataset, which is included in sklearn. This dataset has 506 samples, 13 input variables, and the house values as the output. We have loaded dataset for you and splited into training and test set. Write code to fit linear regression on training `input (x)` and training `output (y)` and print the training score using `model.score` function."
      ]
    },
    {
      "cell_type": "code",
      "execution_count": null,
      "metadata": {
        "id": "VXqXv88C0gBs"
      },
      "outputs": [],
      "source": [
        "# from sklearn.datasets import load_boston\n",
        "from sklearn.datasets import fetch_california_housing\n",
        "from sklearn.model_selection import train_test_split\n",
        "import matplotlib.pyplot as plt\n",
        "\n",
        "california_housing = fetch_california_housing(as_frame=True)\n",
        "print(california_housing.DESCR)\n",
        "\n",
        "california_housing.frame.hist(figsize=(12, 10), bins=30, edgecolor=\"black\")\n",
        "plt.subplots_adjust(hspace=0.7, wspace=0.4)\n",
        "\n",
        "x = california_housing.data\n",
        "y = california_housing.target\n",
        "\n",
        "x_train, x_test, y_train, y_test = train_test_split(x, y, test_size=0.2, random_state=0)"
      ]
    },
    {
      "cell_type": "code",
      "execution_count": null,
      "metadata": {
        "deletable": false,
        "nbgrader": {
          "cell_type": "code",
          "checksum": "0f6f9dd5b90b91bc96806138555ada6c",
          "grade": false,
          "grade_id": "my_regression_ans",
          "locked": false,
          "schema_version": 3,
          "solution": true,
          "task": false
        },
        "id": "-CtDf6wq0gBs"
      },
      "outputs": [],
      "source": [
        "from sklearn.linear_model import LinearRegression\n",
        "\n",
        "def my_regression(x_train, y_train):\n",
        "    \"\"\"Write code to fit linear regression on training input (x) and training output (y) and\n",
        "    print the training score using model.score function. Please do not use test data here.\n",
        "    We are looking for training score only.\"\"\"\n",
        "    # YOUR CODE HERE\n",
        "    raise NotImplementedError()"
      ]
    },
    {
      "cell_type": "code",
      "execution_count": null,
      "metadata": {
        "deletable": false,
        "editable": false,
        "nbgrader": {
          "cell_type": "code",
          "checksum": "4c313275d48b0b2ced8ef361324e49e5",
          "grade": true,
          "grade_id": "my_regression_test",
          "locked": true,
          "points": 2,
          "schema_version": 3,
          "solution": false,
          "task": false
        },
        "id": "GwILPRP_0gBs"
      },
      "outputs": [],
      "source": [
        "# Check you solution by running this cell\n",
        "import math\n",
        "assert math.isclose(my_regression(x_train, y_train), 0.60889, rel_tol = 0.05)"
      ]
    },
    {
      "cell_type": "markdown",
      "metadata": {
        "id": "d_qnFXms0gBs"
      },
      "source": [
        "---\n",
        "## Question 2:\n",
        "\n",
        "Now, implement `RandomForestRegressor` on the same dataset and check the performance on the `test` dataset. Hint: Please read the question carefuly."
      ]
    },
    {
      "cell_type": "code",
      "execution_count": null,
      "metadata": {
        "deletable": false,
        "nbgrader": {
          "cell_type": "code",
          "checksum": "aa179d7ce63137c271c97c130522ed12",
          "grade": false,
          "grade_id": "my_RMregression_ans",
          "locked": false,
          "schema_version": 3,
          "solution": true,
          "task": false
        },
        "id": "HZhvsXUk0gBt"
      },
      "outputs": [],
      "source": [
        "from sklearn.ensemble import RandomForestRegressor\n",
        "\n",
        "def my_RMregression(x_train, y_train, x_test, y_test):\n",
        "    \"\"\"Write code to fit RandomForestRegressor on training input (x) and training output (y) and\n",
        "    return test score using model.score function. \"\"\"\n",
        "    # YOUR CODE HERE\n",
        "    raise NotImplementedError()"
      ]
    },
    {
      "cell_type": "code",
      "execution_count": null,
      "metadata": {
        "deletable": false,
        "editable": false,
        "nbgrader": {
          "cell_type": "code",
          "checksum": "7fcaecc631593b92de1026f9cc11ff13",
          "grade": true,
          "grade_id": "my_RMregression_test",
          "locked": true,
          "points": 2,
          "schema_version": 3,
          "solution": false,
          "task": false
        },
        "id": "bN4C4pFV0gBt"
      },
      "outputs": [],
      "source": [
        "# Check you solution by running this cell\n",
        "import math\n",
        "t_ans = my_RMregression(x_train, y_train, x_test, y_test)\n",
        "p_ans = 0.79805\n",
        "assert math.isclose(t_ans, p_ans, rel_tol = 0.05)"
      ]
    },
    {
      "cell_type": "markdown",
      "metadata": {
        "id": "XdkSx84q0gBt"
      },
      "source": [
        "---\n",
        "## Question 3:\n",
        "We have loaded wine dataset. Write code to fit LogisticRegression classificaiton model on training data and return the accuracy in percentage % on test data. Please split your dataset into 80% for training and 20% for test"
      ]
    },
    {
      "cell_type": "code",
      "execution_count": null,
      "metadata": {
        "deletable": false,
        "nbgrader": {
          "cell_type": "code",
          "checksum": "71ebe359b7fae0bc92b88636b7671e53",
          "grade": false,
          "grade_id": "my_classification_ans",
          "locked": false,
          "schema_version": 3,
          "solution": true,
          "task": false
        },
        "id": "ooTYEGTa0gBt"
      },
      "outputs": [],
      "source": [
        "\n",
        "import numpy as np\n",
        "from sklearn.linear_model import LogisticRegression\n",
        "from sklearn.metrics import accuracy_score as accuracy\n",
        "from sklearn.metrics import classification_report, confusion_matrix\n",
        "from sklearn.datasets import load_wine\n",
        "dataset = load_wine()\n",
        "x = dataset.data\n",
        "y = dataset.target\n",
        "\n",
        "def my_classification(x, y):\n",
        "    \"\"\"Write code to fit LogisticRegression classificaiton model on training data and\n",
        "    return the accuracy in percentage % on test data.\n",
        "    Please split your dataset into 80% for training and 20% for test. In logistic regression\n",
        "    please use solver='liblinear' and random_state=0 \"\"\"\n",
        "    # YOUR CODE HERE\n",
        "    raise NotImplementedError()\n"
      ]
    },
    {
      "cell_type": "code",
      "execution_count": null,
      "metadata": {
        "deletable": false,
        "editable": false,
        "nbgrader": {
          "cell_type": "code",
          "checksum": "7d5a0b06fb70526389502780ddab1e06",
          "grade": true,
          "grade_id": "my_classification_test",
          "locked": true,
          "points": 2,
          "schema_version": 3,
          "solution": false,
          "task": false
        },
        "id": "xkrENerb0gBt"
      },
      "outputs": [],
      "source": [
        "# Check you solution by running this cell\n",
        "assert math.isclose(my_classification(x, y), 94, rel_tol = 0.05)"
      ]
    }
  ],
  "metadata": {
    "kernelspec": {
      "display_name": "Python 3",
      "language": "python",
      "name": "python3"
    },
    "language_info": {
      "codemirror_mode": {
        "name": "ipython",
        "version": 3
      },
      "file_extension": ".py",
      "mimetype": "text/x-python",
      "name": "python",
      "nbconvert_exporter": "python",
      "pygments_lexer": "ipython3",
      "version": "3.7.11"
    },
    "colab": {
      "provenance": [],
      "include_colab_link": true
    }
  },
  "nbformat": 4,
  "nbformat_minor": 0
}